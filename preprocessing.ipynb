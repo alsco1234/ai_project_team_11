{
 "cells": [
  {
   "cell_type": "markdown",
   "source": [
    "**<h1>데이터 전처리</h1>**\n",
    "<h3> xlsx파일로 주어진 데이터의 필요한 부분만을 꺼내서 사용할 수 있는 csv파일로 전환한다 </h3>"
   ],
   "metadata": {}
  },
  {
   "cell_type": "markdown",
   "source": [
    "**<h2>1. class.csv 파일 만들기</h2>**\n",
    "* 목적 : 각 학생이 어떠한 과목을 수강하였는지를 숫자로 표현한 가공 데이터 만들기\n",
    "* input : 학기, 학생, 수업 정보\n",
    "* output : 한줄당 각 학생이 들은 수업의 전공번호"
   ],
   "metadata": {}
  },
  {
   "cell_type": "markdown",
   "source": [
    "1) 과목코드를 전공코드로 바꿔주는 함수"
   ],
   "metadata": {}
  },
  {
   "cell_type": "code",
   "execution_count": 27,
   "source": [
    "def toCode(code) :\n",
    "    if ('GEK' in code):\n",
    "        return 0\n",
    "    elif ('GLS' in code):\n",
    "        return 1"
   ],
   "outputs": [],
   "metadata": {}
  },
  {
   "cell_type": "markdown",
   "source": [
    "2) 필요한 열만 뽑아 dataframe으로 만들기"
   ],
   "metadata": {}
  },
  {
   "cell_type": "code",
   "execution_count": 30,
   "source": [
    "import pandas as pd\n",
    "from pandas import DataFrame\n",
    "import csv\n",
    "\n",
    "# df_test.xlsx 파일을 학번, 과목코드의 dataframe으로 변경\n",
    "df = pd.read_excel(\"rawdata.xlsx\", engine = \"openpyxl\")\n",
    "df_code = pd.DataFrame(df, columns=['학번', '과목코드'])"
   ],
   "outputs": [],
   "metadata": {}
  },
  {
   "cell_type": "markdown",
   "source": [
    "3) class.csv파일 쓰기"
   ],
   "metadata": {}
  },
  {
   "cell_type": "code",
   "execution_count": 31,
   "source": [
    "# class.csv에 학번 같으면 옆으로, 아니면 밑으로 추가\n",
    "f = open('class.csv', 'w', newline='')\n",
    "wr = csv.writer(f)\n",
    "\n",
    "result = pd.DataFrame()\n",
    "codes = []\n",
    "prestudent=15604\n",
    "\n",
    "for i in range(0, len(df_code)):\n",
    "    if(df_code.loc[i, '학번'] != prestudent):\n",
    "        prestudent = df_code.loc[i, '학번']\n",
    "        wr.writerow(codes)\n",
    "        codes = []\n",
    "    codes.append(df_code.loc[i, '과목코드'])\n",
    "    # codes.append(toCode(df_code.loc[i, '과목코드']))\n",
    "\n",
    "f.close()"
   ],
   "outputs": [],
   "metadata": {}
  },
  {
   "cell_type": "markdown",
   "source": [
    "2) rawdata.xlsx를 data.csv로 바꾼 후 필요한 행만 추출"
   ],
   "metadata": {}
  }
 ],
 "metadata": {
  "orig_nbformat": 4,
  "language_info": {
   "name": "python",
   "version": "3.10.1",
   "mimetype": "text/x-python",
   "codemirror_mode": {
    "name": "ipython",
    "version": 3
   },
   "pygments_lexer": "ipython3",
   "nbconvert_exporter": "python",
   "file_extension": ".py"
  },
  "kernelspec": {
   "name": "python3",
   "display_name": "Python 3.10.1 64-bit"
  },
  "interpreter": {
   "hash": "aee8b7b246df8f9039afb4144a1f6fd8d2ca17a180786b69acc140d282b71a49"
  }
 },
 "nbformat": 4,
 "nbformat_minor": 2
}